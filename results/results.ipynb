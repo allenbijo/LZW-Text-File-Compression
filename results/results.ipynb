{
 "cells": [
  {
   "cell_type": "markdown",
   "metadata": {},
   "source": [
    "# LZW Compression Analysis\n",
    "\n",
    "This notebook tests the '**lzw**' python package by subjecting it to compression of utf-8 files of various sizes and thereby analysing both the compression/decompression time and the resulting compression ratios.\n",
    "\n",
    "Without loss of genrality, the compression ratio is defined to be the ratio of output file size to the input file size. "
   ]
  },
  {
   "cell_type": "code",
   "execution_count": 13,
   "metadata": {},
   "outputs": [],
   "source": [
    "import zipfile as zf\n",
    "import shutil\n",
    "import os\n",
    "import matplotlib.pyplot as plt\n",
    "import seaborn as sns\n",
    "import time\n",
    "import numpy as np\n",
    "from datetime import timedelta\n",
    "import pandas as pd\n",
    "from IPython.display import clear_output\n",
    "\n",
    "#from lzw.Compress import compress as com\n",
    "#from lzw.Decompress import decompress as deco\n",
    "#help(deco)"
   ]
  },
  {
   "cell_type": "code",
   "execution_count": 2,
   "metadata": {},
   "outputs": [],
   "source": [
    "os.chdir('/home/prathamesh/LZW-Text-File-Compressor/text_files')\n",
    "for file in os.listdir():\n",
    "    f = file.split('.')\n",
    "    os.rename(file, str(os.path.getsize(os.getcwd()+'/'+file))+'.'+f[1])"
   ]
  },
  {
   "cell_type": "code",
   "execution_count": 6,
   "metadata": {},
   "outputs": [],
   "source": [
    "os.chdir('/home/prathamesh/LZW-Text-File-Compressor/text_files')\n",
    "for file in os.listdir():\n",
    "    #print('File is : ',file)\n",
    "    with open(file,'rb') as f:\n",
    "        ch = f.read().decode('utf-8')\n",
    "        #print(max([ord(c) for c in ch]))"
   ]
  },
  {
   "cell_type": "code",
   "execution_count": 3,
   "metadata": {
    "scrolled": true
   },
   "outputs": [
    {
     "name": "stdout",
     "output_type": "stream",
     "text": [
      "Reading file and preparing to compress...\n",
      "Processing file in chunks of 59736bytes. Working on chunk1/4\n",
      "Chunk 1/4: Execution time: 0:00:00.425223\n",
      "Processing file in chunks of 59736bytes. Working on chunk2/4\n",
      "Chunk 2/4: Execution time: 0:00:00.380722\n",
      "Processing file in chunks of 59736bytes. Working on chunk3/4\n",
      "Chunk 3/4: Execution time: 0:00:00.365236\n",
      "Processing file in chunks of 59736bytes. Working on chunk4/4\n",
      "Chunk 4/4: Execution time: 0:00:00.450137\n",
      "Encode Time: 0:00:01.755749\n",
      "Beginning to decompress...\n",
      "Processing file in chunks of 78064bytes. Working on chunk1/1\n",
      "Chunk 1/1: Execution time: 0:00:00.159316\n",
      "Decode Time: 0:00:00.327733\n"
     ]
    }
   ],
   "source": [
    "from lzw.Compress import compress as com\n",
    "from lzw.Decompress import decompress as deco\n",
    "\n",
    "os.chdir('/home/prathamesh/LZW-Text-File-Compressor/text_files')\n",
    "c = com('/home/prathamesh/LZW-Text-File-Compressor/text_files/238946.csv','/home/prathamesh/LZW-Text-File-Compressor/text_files',encoding='ascii_127',verbose=1)\n",
    "start_time = time.monotonic()\n",
    "c.encode()\n",
    "end_time = time.monotonic()\n",
    "\n",
    "print('Encode Time: '+str(timedelta(seconds=end_time-start_time)))\n",
    "\n",
    "d = deco('/home/prathamesh/LZW-Text-File-Compressor/text_files/238946_compressed.txt','/home/prathamesh/LZW-Text-File-Compressor/text_files/',encoding='ascii_127',verbose=1)\n",
    "start_time = time.monotonic()\n",
    "d.decode()\n",
    "end_time = time.monotonic()\n",
    "\n",
    "print('Decode Time: '+str(timedelta(seconds=end_time-start_time)))\n"
   ]
  },
  {
   "cell_type": "code",
   "execution_count": 3,
   "metadata": {},
   "outputs": [
    {
     "data": {
      "text/plain": [
       "['623294.csv',\n",
       " '8483448.csv',\n",
       " '25463688.csv',\n",
       " '10559175.csv',\n",
       " '4123652.csv',\n",
       " '12859056.csv',\n",
       " '4572477.csv',\n",
       " '3256623.txt',\n",
       " '85425.csv',\n",
       " '793574.csv',\n",
       " '1214386.txt',\n",
       " '256276.csv',\n",
       " '123637.csv',\n",
       " '199569.txt',\n",
       " '113183.csv',\n",
       " '107698.txt',\n",
       " '5475893.csv',\n",
       " '612772.txt',\n",
       " '6476068.csv',\n",
       " '86047.csv',\n",
       " '1023385.txt',\n",
       " '238946.csv',\n",
       " '50537.txt',\n",
       " '21017659.csv']"
      ]
     },
     "execution_count": 3,
     "metadata": {},
     "output_type": "execute_result"
    }
   ],
   "source": [
    "from lzw.Compress import compress as comp\n",
    "from lzw.Decompress import decompress as decomp\n",
    "\n",
    "res_dict = dict()\n",
    "res_dict['size'] = []\n",
    "res_dict['comp_time'] = []\n",
    "res_dict['decomp_time'] = []\n",
    "res_dict['comp_size'] = []\n",
    "#res_dict['formated_comp_time'] = []\n",
    "#res_dict['formated_decomp_time'] = []\n",
    "os.chdir('/home/prathamesh/LZW-Text-File-Compressor/text_files')\n",
    "#to_comp = [_ for _ in os.listdir() if os.path.getsize(_) < 10000000]\n",
    "#to_comp.pop(0)\n",
    "#to_comp.pop(0)\n",
    "#to_comp.pop(0)\n",
    "to_comp = [_ for _ in os.listdir()]\n",
    "to_comp\n",
    "#results = pd.DataFrame(columns=['size'])"
   ]
  },
  {
   "cell_type": "code",
   "execution_count": 4,
   "metadata": {},
   "outputs": [
    {
     "name": "stdout",
     "output_type": "stream",
     "text": [
      "Processing 21017659.csv\n",
      "Reading file and preparing to compress...\n",
      "Processing file in 15 chunks of 1401177bytes each.\n",
      "Working on chunk1/15\n",
      "Chunk 1/15 done: Execution time: 0:00:29.547508\n",
      "Working on chunk2/15\n",
      "Chunk 2/15 done: Execution time: 0:01:03.396815\n",
      "Working on chunk3/15\n",
      "Chunk 3/15 done: Execution time: 0:01:29.408516\n",
      "Working on chunk4/15\n",
      "Chunk 4/15 done: Execution time: 0:01:26.930385\n",
      "Working on chunk5/15\n",
      "Chunk 5/15 done: Execution time: 0:02:14.221448\n",
      "Working on chunk6/15\n",
      "Chunk 6/15 done: Execution time: 0:01:58.828461\n",
      "Working on chunk7/15\n",
      "Chunk 7/15 done: Execution time: 0:01:24.638047\n",
      "Working on chunk8/15\n",
      "Chunk 8/15 done: Execution time: 0:01:20.581768\n",
      "Working on chunk9/15\n",
      "Chunk 9/15 done: Execution time: 0:01:21.548713\n",
      "Working on chunk10/15\n",
      "Chunk 10/15 done: Execution time: 0:05:56.435162\n",
      "Working on chunk11/15\n",
      "Chunk 11/15 done: Execution time: 0:02:26.317396\n",
      "Working on chunk12/15\n",
      "Chunk 12/15 done: Execution time: 0:02:18.464024\n",
      "Working on chunk13/15\n",
      "Chunk 13/15 done: Execution time: 0:01:18.286720\n",
      "Working on chunk14/15\n",
      "Chunk 14/15 done: Execution time: 0:01:18.379352\n",
      "Working on chunk15/15\n",
      "Chunk 15/15 done: Execution time: 0:01:17.205017\n",
      "Beginning to decompress...\n",
      "Processing file in chunks of 721941bytes. Working on chunk1/5\n",
      "Chunk 1/5: Execution time: 0:00:01.195693\n",
      "Processing file in chunks of 721941bytes. Working on chunk2/5\n",
      "Chunk 2/5: Execution time: 0:00:03.024139\n",
      "Processing file in chunks of 721941bytes. Working on chunk3/5\n",
      "Chunk 3/5: Execution time: 0:00:02.954457\n",
      "Processing file in chunks of 721941bytes. Working on chunk4/5\n",
      "Chunk 4/5: Execution time: 0:00:02.831004\n",
      "Processing file in chunks of 721941bytes. Working on chunk5/5\n",
      "Chunk 5/5: Execution time: 0:00:02.836154\n"
     ]
    }
   ],
   "source": [
    "comp_path = '/home/prathamesh/LZW-Text-File-Compressor/compressed/'\n",
    "dec_path = '/home/prathamesh/LZW-Text-File-Compressor/decomped/'\n",
    "file_path = '/home/prathamesh/LZW-Text-File-Compressor/text_files/'\n",
    "\n",
    "#file = '595658.txt'\n",
    "for file in to_comp:\n",
    "    clear_output()\n",
    "    print('Processing '+file)\n",
    "    c = comp(file_path+file, comp_path, encoding='ascii_255', verbose=1, limit=30000000)\n",
    "    start_time = time.monotonic()\n",
    "    c.encode()\n",
    "    end_time = time.monotonic()\n",
    "    res_dict['size'].append(os.path.getsize(file_path+file))\n",
    "    res_dict['comp_time'].append(end_time - start_time)\n",
    "    res_dict['comp_size'].append(os.path.getsize(comp_path+file.split('.')[0]+'_compressed.txt'))\n",
    "    \n",
    "    \n",
    "    d = decomp(comp_path+file.split('.')[0]+'_compressed.txt', dec_path, encoding='ascii_255', verbose=1, limit=30000000)\n",
    "    start_time = time.monotonic()\n",
    "    d.decode()\n",
    "    end_time = time.monotonic()\n",
    "    res_dict['decomp_time'].append(end_time - start_time)\n",
    "    \n",
    "    if abs(os.path.getsize(dec_path+file.split('.')[0]+'_compressed_decompressed.txt')-os.path.getsize(file_path+file)) > 10:\n",
    "        print(\"error in file \"+file)\n",
    "        break"
   ]
  },
  {
   "cell_type": "code",
   "execution_count": 7,
   "metadata": {},
   "outputs": [
    {
     "data": {
      "text/plain": [
       "['/home/prathamesh/git_projects/LZW-Text-File-Compression/results/results.sav']"
      ]
     },
     "execution_count": 7,
     "metadata": {},
     "output_type": "execute_result"
    }
   ],
   "source": [
    "from sklearn.externals import joblib\n",
    "\n",
    "joblib.dump(res_dict,'/home/prathamesh/git_projects/LZW-Text-File-Compression/results/results.sav')"
   ]
  },
  {
   "cell_type": "code",
   "execution_count": 55,
   "metadata": {},
   "outputs": [],
   "source": [
    "results = joblib.load('/home/prathamesh/git_projects/LZW-Text-File-Compression/results/results.sav')\n",
    "results\n",
    "\n",
    "pd_res = pd.DataFrame(results)\n",
    "pd_res.describe()\n",
    "pd_res = pd_res.sort_values(by='size')\n",
    "pd_res.index = list(range(len(res_dict['size'])))\n",
    "#pd_res\n",
    "#pd_res.reindex(index=range(len(res_dict['size'])))"
   ]
  },
  {
   "cell_type": "code",
   "execution_count": 36,
   "metadata": {},
   "outputs": [
    {
     "data": {
      "text/plain": [
       "<function matplotlib.pyplot.show(*args, **kw)>"
      ]
     },
     "execution_count": 36,
     "metadata": {},
     "output_type": "execute_result"
    },
    {
     "data": {
      "image/png": "[encoded data removed]",
      "text/plain": [
       "<Figure size 432x288 with 1 Axes>"
      ]
     },
     "metadata": {},
     "output_type": "display_data"
    }
   ],
   "source": [
    "comp_time = pd_res.loc[:,['size','comp_time']]\n",
    "plt.plot('size','comp_time','b-',data=pd_res)\n",
    "plt.xlabel('File size(bytes)')\n",
    "plt.ylabel('Compression time(s)')\n",
    "#plt.legend('Compression Tiem','Decompression Time')\n",
    "plt.axis([0,max(res_dict['size'])+100,0,max(res_dict['comp_time'])+100])\n",
    "plt.show"
   ]
  },
  {
   "cell_type": "code",
   "execution_count": 53,
   "metadata": {},
   "outputs": [
    {
     "data": {
      "text/plain": [
       "<function matplotlib.pyplot.show(*args, **kw)>"
      ]
     },
     "execution_count": 53,
     "metadata": {},
     "output_type": "execute_result"
    },
    {
     "data": {
      "image/png": "[encoded data removed]",
      "text/plain": [
       "<Figure size 432x288 with 1 Axes>"
      ]
     },
     "metadata": {},
     "output_type": "display_data"
    }
   ],
   "source": [
    "plt.plot('size','decomp_time','b-',data=pd_res)\n",
    "plt.xlabel('File size(bytes)')\n",
    "plt.ylabel('Decompression time(s)')\n",
    "plt.axis([0,max(res_dict['size'])+100,0,max(res_dict['decomp_time'])+10])\n",
    "plt.show"
   ]
  },
  {
   "cell_type": "code",
   "execution_count": 57,
   "metadata": {},
   "outputs": [
    {
     "data": {
      "text/plain": [
       "<function matplotlib.pyplot.show(*args, **kw)>"
      ]
     },
     "execution_count": 57,
     "metadata": {},
     "output_type": "execute_result"
    },
    {
     "data": {
      "image/png": "[encoded data removed]",
      "text/plain": [
       "<Figure size 432x288 with 1 Axes>"
      ]
     },
     "metadata": {},
     "output_type": "display_data"
    }
   ],
   "source": [
    "pd_res['comp_ratio'] = pd_res['comp_size']/pd_res['size']\n",
    "plt.plot('size','comp_ratio','b-',data=pd_res)\n",
    "plt.xlabel('File size(bytes)')\n",
    "plt.ylabel('Compression ratio')\n",
    "plt.title('Compression ratio vs file size')\n",
    "plt.show"
   ]
  },
  {
   "cell_type": "code",
   "execution_count": 64,
   "metadata": {},
   "outputs": [
    {
     "data": {
      "text/plain": [
       "['/home/prathamesh/git_projects/LZW-Text-File-Compression/results/results_dict.sav']"
      ]
     },
     "execution_count": 64,
     "metadata": {},
     "output_type": "execute_result"
    }
   ],
   "source": [
    "pd_res.to_csv('/home/prathamesh/git_projects/LZW-Text-File-Compression/results/lzw_dframe.csv',index=False)\n",
    "#pdr = pd.read_csv('/home/prathamesh/git_projects/LZW-Text-File-Compression/results/lzw_dframe.csv')\n",
    "joblib.dump(res_dict,'/home/prathamesh/git_projects/LZW-Text-File-Compression/results/results_dict.sav')\n",
    "#j = joblib.load('/home/prathamesh/git_projects/LZW-Text-File-Compression/results/results_dict.sav')"
   ]
  }
 ],
 "metadata": {
  "kernelspec": {
   "display_name": "LZW_venv_kernel",
   "language": "python",
   "name": "py3"
  },
  "language_info": {
   "codemirror_mode": {
    "name": "ipython",
    "version": 3
   },
   "file_extension": ".py",
   "mimetype": "text/x-python",
   "name": "python",
   "nbconvert_exporter": "python",
   "pygments_lexer": "ipython3",
   "version": "3.5.2"
  }
 },
 "nbformat": 4,
 "nbformat_minor": 2
}
